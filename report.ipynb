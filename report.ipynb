{
 "cells": [
  {
   "cell_type": "markdown",
   "id": "5e723144-3b27-461a-b709-e9bc3db4e3a5",
   "metadata": {
    "tags": []
   },
   "source": [
    "# Time Series Forecasting\n",
    "\n",
    "This report is a case study for a time series analysis and forecasting.\n",
    "\n",
    "The data was provided by a power utility. It contains a time series about the power in one feeder. A preprocessing stage was needed because there was outlier data points, such as zero values and writing errors on the raw file provided.\n",
    "\n",
    "Both raw and preprocessed files are available in `/data`. The proprocessing script in available in `/src`."
   ]
  },
  {
   "cell_type": "code",
   "execution_count": null,
   "id": "66c2ea15-ef94-47a0-bd1c-ec4148529e41",
   "metadata": {},
   "outputs": [],
   "source": []
  }
 ],
 "metadata": {
  "jupytext": {
   "formats": "ipynb,py:percent"
  },
  "kernelspec": {
   "display_name": "Python 3 (ipykernel)",
   "language": "python",
   "name": "python3"
  },
  "language_info": {
   "codemirror_mode": {
    "name": "ipython",
    "version": 3
   },
   "file_extension": ".py",
   "mimetype": "text/x-python",
   "name": "python",
   "nbconvert_exporter": "python",
   "pygments_lexer": "ipython3",
   "version": "3.8.10"
  }
 },
 "nbformat": 4,
 "nbformat_minor": 5
}
